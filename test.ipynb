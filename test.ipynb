{
 "cells": [
  {
   "cell_type": "code",
   "execution_count": 36,
   "id": "510e765c",
   "metadata": {},
   "outputs": [],
   "source": [
    "import requests"
   ]
  },
  {
   "cell_type": "code",
   "execution_count": 37,
   "id": "e85192db",
   "metadata": {},
   "outputs": [
    {
     "name": "stdout",
     "output_type": "stream",
     "text": [
      "Upload successful. Session ID: ec37f84d-dc3b-42b9-8a2d-7196634f5caa\n"
     ]
    }
   ],
   "source": [
    "upload_url = \"http://localhost:8000/upload\"\n",
    "files = {'file': open('finance.csv', 'rb')}  # Make sure the file exists\n",
    "upload_response = requests.post(upload_url, files=files)\n",
    "\n",
    "# Check if upload was successful\n",
    "if upload_response.status_code != 200:\n",
    "    print(\"Upload failed:\", upload_response.text)\n",
    "    exit()\n",
    "\n",
    "# Get the session ID from the response\n",
    "upload_data = upload_response.json()\n",
    "session_id = upload_data[\"session_id\"]  # Correct way to access session_id\n",
    "print(\"Upload successful. Session ID:\", session_id)"
   ]
  },
  {
   "cell_type": "code",
   "execution_count": 38,
   "id": "426d1e19",
   "metadata": {},
   "outputs": [],
   "source": [
    "def queryLLM(query):\n",
    "    query_url = \"http://localhost:8000/query\"\n",
    "    query_data = {\n",
    "        \"session_id\": session_id,  # Use the obtained session_id\n",
    "        \"prompt\": query\n",
    "        }\n",
    "    query_response = requests.post(query_url, json=query_data)\n",
    "    print(\"Query response:\", query_response.json()[\"answer\"])\n",
    "    "
   ]
  },
  {
   "cell_type": "code",
   "execution_count": 39,
   "id": "2f32dd14",
   "metadata": {},
   "outputs": [
    {
     "name": "stdout",
     "output_type": "stream",
     "text": [
      "Query response: The total expenses for each category are as follows:\n",
      "- Rent: $2,400.00\n",
      "- Groceries: $501.50\n",
      "- Utilities: $216.40\n",
      "- Entertainment: $61.98\n",
      "- Transport: $45.00\n"
     ]
    }
   ],
   "source": [
    "queryLLM(\"Summarize total expenses for each category\")"
   ]
  },
  {
   "cell_type": "code",
   "execution_count": 40,
   "id": "6141a05b",
   "metadata": {},
   "outputs": [
    {
     "name": "stdout",
     "output_type": "stream",
     "text": [
      "Query response: The top 3 spending categories in the last 3 months are:\n",
      "\n",
      "1. Rent - $2,400.00\n",
      "2. Groceries - $501.50\n",
      "3. Utilities - $216.40\n",
      "\n",
      "The remaining categories have lower expenses compared to the top 3.\n"
     ]
    }
   ],
   "source": [
    "queryLLM(\"Identify the top 3 spending categories in the last 3 months\")"
   ]
  },
  {
   "cell_type": "code",
   "execution_count": null,
   "id": "70115d75",
   "metadata": {},
   "outputs": [],
   "source": []
  }
 ],
 "metadata": {
  "kernelspec": {
   "display_name": "hugF_env",
   "language": "python",
   "name": "python3"
  },
  "language_info": {
   "codemirror_mode": {
    "name": "ipython",
    "version": 3
   },
   "file_extension": ".py",
   "mimetype": "text/x-python",
   "name": "python",
   "nbconvert_exporter": "python",
   "pygments_lexer": "ipython3",
   "version": "3.10.18"
  }
 },
 "nbformat": 4,
 "nbformat_minor": 5
}
